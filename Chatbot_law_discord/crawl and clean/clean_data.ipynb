{
 "cells": [
  {
   "cell_type": "code",
   "execution_count": 60,
   "id": "79fd92a2-e089-4a14-9695-3bc939256aed",
   "metadata": {},
   "outputs": [
    {
     "name": "stdout",
     "output_type": "stream",
     "text": [
      "✅ Đã xử lý xong file: /Users/tavantai/Developer/dataluat/luat/luatdat.json\n",
      "🚀 Đã làm sạch toàn bộ file JSON trong thư mục!\n"
     ]
    }
   ],
   "source": [
    "import os\n",
    "import json\n",
    "import re\n",
    "\n",
    "def clean_text(text):\n",
    "    \"\"\"Xóa dấu phẩy, dấu gạch dưới, dấu gạch ngang và khoảng trắng thừa\"\"\"\n",
    "    text = re.sub(r',', '', text)  # ✅ Xóa dấu phẩy\n",
    "    text = text.replace(\"-\", \"\")\n",
    "    text = text.replace('_', '')   # ✅ Xóa dấu gạch dưới\n",
    "    text = re.sub(r'-+', '', text)  # ✅ Xóa dấu gạch ngang (cả ---- hoặc ---)\n",
    "    text = re.sub(r'\\s+', ' ', text).strip()  # ✅ Xóa khoảng trắng thừa (chỉ giữ 1 khoảng trắng giữa các từ)\n",
    "    return text\n",
    "\n",
    "def process_json_file(file_path):\n",
    "    \"\"\"Xử lý một file JSON: Làm sạch dữ liệu\"\"\"\n",
    "    try:\n",
    "        with open(file_path, \"r\", encoding=\"utf-8\") as f:\n",
    "            data = json.load(f)  # Load dữ liệu JSON\n",
    "        \n",
    "        # Kiểm tra nếu dữ liệu không phải danh sách thì bỏ qua\n",
    "        if not isinstance(data, list):\n",
    "            print(f\"⚠ Bỏ qua file (không phải danh sách JSON): {file_path}\")\n",
    "            return\n",
    "\n",
    "        # ✅ Làm sạch từng phần tử trong danh sách\n",
    "        cleaned_data = [clean_text(text) for text in data]\n",
    "\n",
    "        # ✅ Ghi đè lại file JSON sau khi làm sạch\n",
    "        with open(file_path, \"w\", encoding=\"utf-8\") as f:\n",
    "            json.dump(cleaned_data, f, ensure_ascii=False, indent=4)\n",
    "\n",
    "        print(f\"✅ Đã xử lý xong file: {file_path}\")\n",
    "    except Exception as e:\n",
    "        print(f\"❌ Lỗi khi xử lý file {file_path}: {e}\")\n",
    "\n",
    "def process_json_folder(folder_path):\n",
    "    \"\"\"Xử lý toàn bộ file JSON trong thư mục\"\"\"\n",
    "    if not os.path.exists(folder_path):\n",
    "        print(f\"❌ Thư mục không tồn tại: {folder_path}\")\n",
    "        return\n",
    "\n",
    "    json_files = [f for f in os.listdir(folder_path) if f.endswith(\".json\")]\n",
    "    \n",
    "    if not json_files:\n",
    "        print(\"⚠ Không tìm thấy file JSON nào trong thư mục!\")\n",
    "        return\n",
    "\n",
    "    for filename in json_files:\n",
    "        file_path = os.path.join(folder_path, filename)\n",
    "        process_json_file(file_path)\n",
    "\n",
    "# ✅ Thay đổi đường dẫn thư mục chứa file JSON\n",
    "FOLDER_PATH = \"/Users/tavantai/Developer/dataluat/luat\"\n",
    "process_json_folder(FOLDER_PATH)\n",
    "\n",
    "print(\"🚀 Đã làm sạch toàn bộ file JSON trong thư mục!\")\n"
   ]
  },
  {
   "cell_type": "code",
   "execution_count": null,
   "id": "b1c64886-7fa6-4052-b34d-74d207d5e967",
   "metadata": {},
   "outputs": [],
   "source": []
  }
 ],
 "metadata": {
  "kernelspec": {
   "display_name": "Python [conda env:base] *",
   "language": "python",
   "name": "conda-base-py"
  },
  "language_info": {
   "codemirror_mode": {
    "name": "ipython",
    "version": 3
   },
   "file_extension": ".py",
   "mimetype": "text/x-python",
   "name": "python",
   "nbconvert_exporter": "python",
   "pygments_lexer": "ipython3",
   "version": "3.12.7"
  }
 },
 "nbformat": 4,
 "nbformat_minor": 5
}
