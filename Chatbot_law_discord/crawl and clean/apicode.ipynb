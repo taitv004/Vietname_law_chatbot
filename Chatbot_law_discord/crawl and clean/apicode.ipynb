{
 "cells": [
  {
   "cell_type": "code",
   "execution_count": 1,
   "id": "cb3195f1-f065-4dbc-a2fc-3d1768b5d89f",
   "metadata": {},
   "outputs": [
    {
     "name": "stdout",
     "output_type": "stream",
     "text": [
      "✅ Dữ liệu đã được lưu vào phapluat_clean.json\n"
     ]
    }
   ],
   "source": [
    "import requests\n",
    "from bs4 import BeautifulSoup\n",
    "import json\n",
    "import re\n",
    "\n",
    "# URL trang web cần crawl\n",
    "URL = \"https://thuvienphapluat.vn/van-ban/Bat-dong-san/Thong-tu-11-2021-TT-BTNMT-Dinh-muc-kinh-te-ky-thuat-lap-quy-hoach-ke-hoach-su-dung-dat-483793.aspx\"\n",
    "\n",
    "# Hàm gửi request và lấy HTML\n",
    "def get_html(url):\n",
    "    headers = {\n",
    "        \"User-Agent\": \"Mozilla/5.0 (Windows NT 10.0; Win64; x64) AppleWebKit/537.36 (KHTML, like Gecko) Chrome/119.0.0.0 Safari/537.36\"\n",
    "    }\n",
    "    response = requests.get(url, headers=headers)\n",
    "    if response.status_code == 200:\n",
    "        return response.text\n",
    "    else:\n",
    "        print(f\"Error {response.status_code}: Unable to fetch page\")\n",
    "        return None\n",
    "\n",
    "# Hàm làm sạch văn bản: loại bỏ \\r, \\n, \\t và các khoảng trắng thừa, chuyển thành chữ thường\n",
    "def clean_text(text):\n",
    "    text = re.sub(r'[\\r\\n\\t]+', ' ', text)  # Loại bỏ \\r, \\n, \\t thay bằng khoảng trắng\n",
    "    text = re.sub(r'\\s+', ' ', text).strip()  # Xóa khoảng trắng thừa\n",
    "    return text.lower()  # 🔹 Chuyển thành chữ thường\n",
    "\n",
    "# Hàm phân tích nội dung VBPL và lọc <p> theo vị trí\n",
    "def parse_phapluat_page(html, start_index=0, end_index=None):\n",
    "    soup = BeautifulSoup(html, \"html.parser\")\n",
    "    \n",
    "    # Tìm phần nội dung chính của văn bản pháp luật\n",
    "    content_div = soup.find(\"div\", {\"id\": \"ctl00_Content_ThongTinVB_divNoiDung\"})\n",
    "    if not content_div:\n",
    "        print(\"Không tìm thấy nội dung bài viết\")\n",
    "        return None\n",
    "\n",
    "    # ✅ Lấy tất cả các thẻ <p> trong phạm vi mong muốn\n",
    "    all_paragraphs = content_div.find_all(\"p\")\n",
    "    filtered_paragraphs = all_paragraphs[start_index:end_index]  # Lọc theo vị trí\n",
    "\n",
    "    # ✅ Lưu nội dung <p> vào danh sách, loại bỏ ký tự không mong muốn và chuyển thành chữ thường\n",
    "    extracted_content = [clean_text(p.get_text()) for p in filtered_paragraphs if p.get_text(strip=True)]\n",
    "\n",
    "    return extracted_content\n",
    "\n",
    "# Hàm lưu dữ liệu vào file JSON\n",
    "def save_to_json(data, filename=\"TT47_1.json\"):\n",
    "    with open(filename, \"w\", encoding=\"utf-8\") as f:\n",
    "        json.dump(data, f, indent=4, ensure_ascii=False)\n",
    "\n",
    "# Chạy quá trình crawl với lọc vị trí <p>\n",
    "html_content = get_html(URL)\n",
    "if html_content:\n",
    "    structured_data = parse_phapluat_page(html_content, start_index=4, end_index=None)  # 🔹 Điều chỉnh phạm vi\n",
    "    save_to_json(structured_data)\n",
    "    print(\"✅ Dữ liệu đã được lưu vào phapluat_clean.json\")\n"
   ]
  },
  {
   "cell_type": "code",
   "execution_count": null,
   "id": "af87ecd5-01e8-4156-b62d-ebb1d4e76880",
   "metadata": {},
   "outputs": [],
   "source": []
  },
  {
   "cell_type": "code",
   "execution_count": null,
   "id": "1750b5b8-06fe-43d0-a68f-b29a558b52df",
   "metadata": {},
   "outputs": [],
   "source": []
  }
 ],
 "metadata": {
  "kernelspec": {
   "display_name": "Python [conda env:base] *",
   "language": "python",
   "name": "conda-base-py"
  },
  "language_info": {
   "codemirror_mode": {
    "name": "ipython",
    "version": 3
   },
   "file_extension": ".py",
   "mimetype": "text/x-python",
   "name": "python",
   "nbconvert_exporter": "python",
   "pygments_lexer": "ipython3",
   "version": "3.12.7"
  }
 },
 "nbformat": 4,
 "nbformat_minor": 5
}
